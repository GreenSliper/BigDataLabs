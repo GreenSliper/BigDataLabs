{
 "cells": [
  {
   "cell_type": "code",
   "execution_count": 21,
   "id": "30c2adc1-41d4-4627-ab69-5e1bf1fac7b9",
   "metadata": {},
   "outputs": [],
   "source": [
    "from pyspark import SparkContext, SparkConf"
   ]
  },
  {
   "cell_type": "code",
   "execution_count": 22,
   "id": "2499c4b2-aaee-4813-bf5d-5ed5330d7198",
   "metadata": {},
   "outputs": [],
   "source": [
    "import os\n",
    "\n",
    "os.environ['PYSPARK_SUBMIT_ARGS'] = '--packages com.databricks:spark-xml_2.12:0.14.0 pyspark-shell'"
   ]
  },
  {
   "cell_type": "code",
   "execution_count": 23,
   "id": "e08b7034-b870-4195-8891-159e98561bc3",
   "metadata": {},
   "outputs": [],
   "source": [
    "conf = SparkConf().setAppName(\"6131_Belov_2\").setMaster('yarn')\n",
    "context = SparkContext(conf=conf)"
   ]
  },
  {
   "cell_type": "code",
   "execution_count": 24,
   "id": "b285280a-67f9-4659-a72e-e0801202713f",
   "metadata": {},
   "outputs": [],
   "source": [
    "from pyspark.sql import SparkSession\n",
    "session = SparkSession(context)"
   ]
  },
  {
   "cell_type": "code",
   "execution_count": 25,
   "id": "3b02fc1e-bc3e-4943-ac60-214dc928e4bd",
   "metadata": {},
   "outputs": [
    {
     "data": {
      "text/html": [
       "\n",
       "            <div>\n",
       "                <p><b>SparkSession - in-memory</b></p>\n",
       "                \n",
       "        <div>\n",
       "            <p><b>SparkContext</b></p>\n",
       "\n",
       "            <p><a href=\"http://n1.maapr.xyz:4043\">Spark UI</a></p>\n",
       "\n",
       "            <dl>\n",
       "              <dt>Version</dt>\n",
       "                <dd><code>v3.1.2.0-eep-800</code></dd>\n",
       "              <dt>Master</dt>\n",
       "                <dd><code>yarn</code></dd>\n",
       "              <dt>AppName</dt>\n",
       "                <dd><code>6131_Belov_2</code></dd>\n",
       "            </dl>\n",
       "        </div>\n",
       "        \n",
       "            </div>\n",
       "        "
      ],
      "text/plain": [
       "<pyspark.sql.session.SparkSession at 0x7f504cdbb280>"
      ]
     },
     "execution_count": 25,
     "metadata": {},
     "output_type": "execute_result"
    }
   ],
   "source": [
    "session"
   ]
  },
  {
   "cell_type": "code",
   "execution_count": 26,
   "id": "8d1c383d-7292-4058-94ca-f0dfcfaad564",
   "metadata": {},
   "outputs": [],
   "source": [
    "import pyspark.sql as sql"
   ]
  },
  {
   "cell_type": "code",
   "execution_count": 27,
   "id": "04fcf168-fcbe-4da7-990b-366007581c9f",
   "metadata": {},
   "outputs": [
    {
     "name": "stdout",
     "output_type": "stream",
     "text": [
      "root\n",
      " |-- _AcceptedAnswerId: long (nullable = true)\n",
      " |-- _AnswerCount: long (nullable = true)\n",
      " |-- _Body: string (nullable = true)\n",
      " |-- _ClosedDate: timestamp (nullable = true)\n",
      " |-- _CommentCount: long (nullable = true)\n",
      " |-- _CommunityOwnedDate: timestamp (nullable = true)\n",
      " |-- _CreationDate: timestamp (nullable = true)\n",
      " |-- _FavoriteCount: long (nullable = true)\n",
      " |-- _Id: long (nullable = true)\n",
      " |-- _LastActivityDate: timestamp (nullable = true)\n",
      " |-- _LastEditDate: timestamp (nullable = true)\n",
      " |-- _LastEditorDisplayName: string (nullable = true)\n",
      " |-- _LastEditorUserId: long (nullable = true)\n",
      " |-- _OwnerDisplayName: string (nullable = true)\n",
      " |-- _OwnerUserId: long (nullable = true)\n",
      " |-- _ParentId: long (nullable = true)\n",
      " |-- _PostTypeId: long (nullable = true)\n",
      " |-- _Score: long (nullable = true)\n",
      " |-- _Tags: string (nullable = true)\n",
      " |-- _Title: string (nullable = true)\n",
      " |-- _ViewCount: long (nullable = true)\n",
      "\n"
     ]
    }
   ],
   "source": [
    "posts_sample = session.read.format('xml')\\\n",
    ".option('rootTag', 'posts')\\\n",
    ".option('rowTag', 'row')\\\n",
    ".load(\"posts_sample.xml\")\n",
    "posts_sample.printSchema()"
   ]
  },
  {
   "cell_type": "code",
   "execution_count": 28,
   "id": "f27f8c44-abc1-4d8d-9cb0-a772d88446a3",
   "metadata": {},
   "outputs": [
    {
     "name": "stdout",
     "output_type": "stream",
     "text": [
      "root\n",
      " |-- name: string (nullable = true)\n",
      "\n"
     ]
    }
   ],
   "source": [
    "langs = session.read\\\n",
    ".option(\"header\", True)\\\n",
    ".option(\"inferSchema\", True)\\\n",
    ".csv('programming-languages.csv').select('name')\n",
    "langs.printSchema()"
   ]
  },
  {
   "cell_type": "code",
   "execution_count": 29,
   "id": "33fd0e1f-1326-4c3c-96da-71c3a1b82a83",
   "metadata": {},
   "outputs": [
    {
     "name": "stdout",
     "output_type": "stream",
     "text": [
      "+----+----------+--------------------+\n",
      "|year|_ViewCount|               _Tags|\n",
      "+----+----------+--------------------+\n",
      "|2010|      3650|<c++><character-e...|\n",
      "|2010|       617|<sharepoint><info...|\n",
      "|2010|      1315|<iphone><app-stor...|\n",
      "|2010|       973|<symfony1><schema...|\n",
      "|2010|       132|              <java>|\n",
      "|2010|       419|<visual-studio-20...|\n",
      "|2010|       869|<cakephp><file-up...|\n",
      "|2010|      1303|<git><cygwin><putty>|\n",
      "|2010|       748|  <drupal><drupal-6>|\n",
      "|2010|      1258|<php><wordpress><...|\n",
      "|2010|     14972|<c#><winforms><da...|\n",
      "|2010|       274|<c#><asp.net><exc...|\n",
      "|2010|       804|    <sql><xml><blob>|\n",
      "|2010|      6019|<.htaccess><codei...|\n",
      "|2010|      5456|<wcf><web-service...|\n",
      "|2010|       316|<mod-rewrite><apa...|\n",
      "|2010|     15477|<sql><database><d...|\n",
      "|2010|      9649|         <ruby><rvm>|\n",
      "|2010|     20199|  <android><eclipse>|\n",
      "|2010|       735|<iphone><uiimagev...|\n",
      "+----+----------+--------------------+\n",
      "only showing top 20 rows\n",
      "\n"
     ]
    }
   ],
   "source": [
    "from pyspark.sql.functions import year\n",
    "posts_sample_n = posts_sample.select(year('_CreationDate').alias('year'), '_ViewCount', '_Tags').dropna()\n",
    "posts_sample_n = posts_sample_n.filter('year < 2021 and year > 2009')\n",
    "posts_sample_n.show()"
   ]
  },
  {
   "cell_type": "code",
   "execution_count": 30,
   "id": "b0cc9681-da00-4806-8129-1b1ba17510a8",
   "metadata": {},
   "outputs": [],
   "source": [
    "posts_sample_n = posts_sample_n.rdd.map(lambda entry: (entry[0], entry[1], str(entry[2])[1:-1].split('><'))).toDF(['year', 'view_count', 'tags'])"
   ]
  },
  {
   "cell_type": "code",
   "execution_count": 31,
   "id": "5720a7f7-480e-4eed-b4a5-4df6e4eb7a10",
   "metadata": {},
   "outputs": [
    {
     "name": "stdout",
     "output_type": "stream",
     "text": [
      "+----+----------+------------------+\n",
      "|year|view_count|              lang|\n",
      "+----+----------+------------------+\n",
      "|2010|      3650|               c++|\n",
      "|2010|      3650|character-encoding|\n",
      "|2010|       617|        sharepoint|\n",
      "|2010|       617|          infopath|\n",
      "|2010|      1315|            iphone|\n",
      "|2010|      1315|         app-store|\n",
      "|2010|      1315|   in-app-purchase|\n",
      "|2010|       973|          symfony1|\n",
      "|2010|       973|            schema|\n",
      "|2010|       973|          doctrine|\n",
      "|2010|       973|          fixtures|\n",
      "|2010|       132|              java|\n",
      "|2010|       419|visual-studio-2010|\n",
      "|2010|       419|          stylecop|\n",
      "|2010|       869|           cakephp|\n",
      "|2010|       869|       file-upload|\n",
      "|2010|       869|         swfupload|\n",
      "|2010|      1303|               git|\n",
      "|2010|      1303|            cygwin|\n",
      "|2010|      1303|             putty|\n",
      "+----+----------+------------------+\n",
      "only showing top 20 rows\n",
      "\n"
     ]
    }
   ],
   "source": [
    "from pyspark.sql.functions import explode\n",
    "\n",
    "posts_sample_n = posts_sample_n.select('year', 'view_count', explode('tags')).withColumnRenamed('col', 'lang')\n",
    "posts_sample_n.show()"
   ]
  },
  {
   "cell_type": "code",
   "execution_count": 32,
   "id": "074effc0-369b-4679-88d2-bf21ff4dbb44",
   "metadata": {},
   "outputs": [
    {
     "name": "stdout",
     "output_type": "stream",
     "text": [
      "+----+----------+-----------+\n",
      "|year|view_count|       lang|\n",
      "+----+----------+-----------+\n",
      "|2010|       132|       java|\n",
      "|2010|      1258|        php|\n",
      "|2010|      9649|       ruby|\n",
      "|2010|      2384|          c|\n",
      "|2010|      1987|        php|\n",
      "|2010|      3321|     python|\n",
      "|2010|       128| javascript|\n",
      "|2010|       477|applescript|\n",
      "|2010|      1748|        php|\n",
      "|2010|       998|        php|\n",
      "|2010|      2095| javascript|\n",
      "|2010|       447|        sed|\n",
      "|2010|      6558|     python|\n",
      "|2010|       214|       java|\n",
      "|2010|       214|       ruby|\n",
      "|2010|       852|objective-c|\n",
      "|2010|       179| javascript|\n",
      "|2010|      6709|          r|\n",
      "|2010|        78|        php|\n",
      "|2010|      1280| javascript|\n",
      "+----+----------+-----------+\n",
      "only showing top 20 rows\n",
      "\n"
     ]
    }
   ],
   "source": [
    "from pyspark.sql.functions import lower, sum\n",
    "\n",
    "posts_sample_n = posts_sample_n.crossJoin(langs.withColumn('name', lower('name'))).where('lang=name').drop('name')\n",
    "posts_sample_n.show()"
   ]
  },
  {
   "cell_type": "code",
   "execution_count": 33,
   "id": "62f0d50b-a2d2-4f59-be13-bc6b5e34e678",
   "metadata": {},
   "outputs": [],
   "source": [
    "posts_sample_n = posts_sample_n.groupBy('year', 'lang').agg(sum('view_count'))"
   ]
  },
  {
   "cell_type": "code",
   "execution_count": 34,
   "id": "66727392-bb36-41b7-8f93-3fb3261c7438",
   "metadata": {},
   "outputs": [
    {
     "name": "stdout",
     "output_type": "stream",
     "text": [
      "+----+-----------+----------+\n",
      "|year|       lang|view_count|\n",
      "+----+-----------+----------+\n",
      "|2010|        php|   1189629|\n",
      "|2010|       java|    563211|\n",
      "|2010| javascript|    316131|\n",
      "|2010|objective-c|     97009|\n",
      "|2010|       ruby|     76215|\n",
      "|2010|          c|     66587|\n",
      "|2010|     python|     60672|\n",
      "|2010|     matlab|     51865|\n",
      "|2010|applescript|     32305|\n",
      "|2010|     delphi|     13065|\n",
      "|2011| javascript|    809078|\n",
      "|2011|       java|    389834|\n",
      "|2011|        php|    246770|\n",
      "|2011|          c|    238277|\n",
      "|2011|objective-c|    218934|\n",
      "|2011|     python|    203180|\n",
      "|2011|       bash|     60805|\n",
      "|2011|       ruby|     39223|\n",
      "|2011|       perl|     28502|\n",
      "|2011|     matlab|     18816|\n",
      "+----+-----------+----------+\n",
      "only showing top 20 rows\n",
      "\n"
     ]
    }
   ],
   "source": [
    "from pyspark.sql.window import Window\n",
    "from pyspark.sql.functions import row_number, col\n",
    "\n",
    "window = Window.partitionBy(posts_sample_n.year).orderBy(col(\"sum(view_count)\").desc())\n",
    "window_df = posts_sample_n.withColumn(\"grade\", row_number().over(window))\n",
    "window_df = window_df.withColumnRenamed(\"sum(view_count)\", \"view_count\").filter('grade <=10').drop('grade').orderBy(col('year').asc(), col('view_count').desc())\n",
    "window_df.show()"
   ]
  },
  {
   "cell_type": "code",
   "execution_count": 35,
   "id": "b1b5e35f-91f2-446c-83fe-e33ee605638c",
   "metadata": {},
   "outputs": [],
   "source": [
    "window_df.coalesce(1).write.mode('overwrite').parquet(\"prog_langs_rating.parquet\")"
   ]
  },
  {
   "cell_type": "code",
   "execution_count": 36,
   "id": "59845284-8f14-4e4a-8ff2-f2480d436c35",
   "metadata": {},
   "outputs": [],
   "source": [
    "!hadoop fs -get 'prog_langs_rating.parquet' ."
   ]
  },
  {
   "cell_type": "code",
   "execution_count": 20,
   "id": "3ade7d6f-00c7-4a14-9e94-d44fd063417d",
   "metadata": {},
   "outputs": [],
   "source": [
    "session.stop()"
   ]
  },
  {
   "cell_type": "code",
   "execution_count": null,
   "id": "ea752dd0-04af-495b-808f-de6692014dae",
   "metadata": {},
   "outputs": [],
   "source": []
  }
 ],
 "metadata": {
  "kernelspec": {
   "display_name": "Python 3",
   "language": "python",
   "name": "python3"
  },
  "language_info": {
   "codemirror_mode": {
    "name": "ipython",
    "version": 3
   },
   "file_extension": ".py",
   "mimetype": "text/x-python",
   "name": "python",
   "nbconvert_exporter": "python",
   "pygments_lexer": "ipython3",
   "version": "3.9.5"
  }
 },
 "nbformat": 4,
 "nbformat_minor": 5
}
