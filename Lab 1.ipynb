{
 "cells": [
  {
   "cell_type": "code",
   "execution_count": 1,
   "id": "8ef0d00b-5c2b-4e08-aa4f-1a8f3cd51d90",
   "metadata": {},
   "outputs": [],
   "source": [
    "from pyspark import SparkContext, SparkConf"
   ]
  },
  {
   "cell_type": "code",
   "execution_count": 2,
   "id": "c5540f1d-2d13-4703-bce6-4d34afa58a36",
   "metadata": {},
   "outputs": [],
   "source": [
    "conf = SparkConf().setAppName(\"6131_Belov\").setMaster('yarn')\n",
    "context = SparkContext(conf=conf)"
   ]
  },
  {
   "cell_type": "code",
   "execution_count": 3,
   "id": "6d9fbab2-7211-44aa-9cd7-ec34ec85dc29",
   "metadata": {},
   "outputs": [],
   "source": [
    "from pyspark.sql import SparkSession\n",
    "\n",
    "session = SparkSession(context)"
   ]
  },
  {
   "cell_type": "code",
   "execution_count": 4,
   "id": "f2e18d5b-10a8-45cd-985b-f41fa8bb0fa8",
   "metadata": {},
   "outputs": [
    {
     "data": {
      "text/html": [
       "\n",
       "            <div>\n",
       "                <p><b>SparkSession - in-memory</b></p>\n",
       "                \n",
       "        <div>\n",
       "            <p><b>SparkContext</b></p>\n",
       "\n",
       "            <p><a href=\"http://n1.maapr.xyz:4043\">Spark UI</a></p>\n",
       "\n",
       "            <dl>\n",
       "              <dt>Version</dt>\n",
       "                <dd><code>v3.1.2.0-eep-800</code></dd>\n",
       "              <dt>Master</dt>\n",
       "                <dd><code>yarn</code></dd>\n",
       "              <dt>AppName</dt>\n",
       "                <dd><code>6131_Belov</code></dd>\n",
       "            </dl>\n",
       "        </div>\n",
       "        \n",
       "            </div>\n",
       "        "
      ],
      "text/plain": [
       "<pyspark.sql.session.SparkSession at 0x7f5c9fe4e160>"
      ]
     },
     "execution_count": 4,
     "metadata": {},
     "output_type": "execute_result"
    }
   ],
   "source": [
    "session"
   ]
  },
  {
   "cell_type": "code",
   "execution_count": 5,
   "id": "a8fa901b-04c8-4814-b3e9-25c25cca0ff9",
   "metadata": {},
   "outputs": [
    {
     "name": "stdout",
     "output_type": "stream",
     "text": [
      "Found 6 items\n",
      "drwxr-xr-x   - mapr mapr          4 2021-11-15 15:59 /apps\n",
      "drwxr-xr-x   - mapr mapr          0 2021-11-15 16:02 /hbase\n",
      "drwxr-xr-x   - mapr mapr          0 2021-11-15 15:59 /opt\n",
      "drwxrwxrwx   - mapr mapr         14 2023-12-21 06:18 /tmp\n",
      "drwxr-xr-x   - mapr mapr         72 2023-12-15 22:06 /user\n",
      "drwxr-xr-x   - mapr mapr          1 2021-11-15 15:57 /var\n"
     ]
    }
   ],
   "source": [
    "!hadoop fs -ls /"
   ]
  },
  {
   "cell_type": "code",
   "execution_count": 6,
   "id": "6ca41d68-e02c-4d10-993e-11292332ab6c",
   "metadata": {},
   "outputs": [],
   "source": [
    "trips = session.read\\\n",
    ".option(\"header\", True)\\\n",
    ".option(\"inferSchema\", True)\\\n",
    ".option(\"timestampFormat\", 'M/d/y H:m')\\\n",
    ".csv(\"trip.csv\")"
   ]
  },
  {
   "cell_type": "code",
   "execution_count": 7,
   "id": "2836b383-0107-4294-8cdf-0078d2514748",
   "metadata": {},
   "outputs": [
    {
     "name": "stdout",
     "output_type": "stream",
     "text": [
      "root\n",
      " |-- id: integer (nullable = true)\n",
      " |-- duration: integer (nullable = true)\n",
      " |-- start_date: timestamp (nullable = true)\n",
      " |-- start_station_name: string (nullable = true)\n",
      " |-- start_station_id: integer (nullable = true)\n",
      " |-- end_date: timestamp (nullable = true)\n",
      " |-- end_station_name: string (nullable = true)\n",
      " |-- end_station_id: integer (nullable = true)\n",
      " |-- bike_id: integer (nullable = true)\n",
      " |-- subscription_type: string (nullable = true)\n",
      " |-- zip_code: string (nullable = true)\n",
      "\n"
     ]
    }
   ],
   "source": [
    "trips.printSchema()"
   ]
  },
  {
   "cell_type": "code",
   "execution_count": 8,
   "id": "26795471-220a-4fcf-8db3-7e37fa9364f2",
   "metadata": {},
   "outputs": [
    {
     "data": {
      "text/plain": [
       "Row(id=4576, duration=63, start_date=datetime.datetime(2013, 8, 29, 14, 13), start_station_name='South Van Ness at Market', start_station_id=66, end_date=datetime.datetime(2013, 8, 29, 14, 14), end_station_name='South Van Ness at Market', end_station_id=66, bike_id=520, subscription_type='Subscriber', zip_code='94127')"
      ]
     },
     "execution_count": 8,
     "metadata": {},
     "output_type": "execute_result"
    }
   ],
   "source": [
    "trips.head()"
   ]
  },
  {
   "cell_type": "code",
   "execution_count": 10,
   "id": "6aaac9e8-7a2d-4335-8fb9-2f622ee270c8",
   "metadata": {},
   "outputs": [
    {
     "name": "stdout",
     "output_type": "stream",
     "text": [
      "+-------+--------------+\n",
      "|bike_id|total_duration|\n",
      "+-------+--------------+\n",
      "|    535|      36229902|\n",
      "+-------+--------------+\n",
      "\n"
     ]
    }
   ],
   "source": [
    "# Task 1 Найти велосипед с максимальным временем пробега.\n",
    "\n",
    "from pyspark.sql.functions import sum, desc\n",
    "\n",
    "trips.groupBy('bike_id')\\\n",
    ".agg(sum('duration').alias('total_duration'))\\\n",
    ".sort(desc('total_duration'))\\\n",
    ".limit(1).show()"
   ]
  },
  {
   "cell_type": "code",
   "execution_count": 12,
   "id": "75be6f8c-0e02-444b-bb4a-2dd09c73ae8b",
   "metadata": {},
   "outputs": [],
   "source": [
    "station_data = session.read\\\n",
    ".option(\"header\", True)\\\n",
    ".option(\"inferSchema\", True)\\\n",
    ".option(\"timestampFormat\", 'M/d/y')\\\n",
    ".csv(\"station.csv\")"
   ]
  },
  {
   "cell_type": "code",
   "execution_count": 13,
   "id": "0a6e68c9-9c93-495d-a2ac-d49aa51fd239",
   "metadata": {},
   "outputs": [
    {
     "name": "stdout",
     "output_type": "stream",
     "text": [
      "root\n",
      " |-- id: integer (nullable = true)\n",
      " |-- name: string (nullable = true)\n",
      " |-- lat: double (nullable = true)\n",
      " |-- long: double (nullable = true)\n",
      " |-- dock_count: integer (nullable = true)\n",
      " |-- city: string (nullable = true)\n",
      " |-- installation_date: timestamp (nullable = true)\n",
      "\n"
     ]
    }
   ],
   "source": [
    "station_data.printSchema()"
   ]
  },
  {
   "cell_type": "code",
   "execution_count": 15,
   "id": "79d36fc8-1e78-4b99-b6dc-4312dbc871ff",
   "metadata": {},
   "outputs": [
    {
     "data": {
      "text/plain": [
       "69.9428256877473"
      ]
     },
     "execution_count": 15,
     "metadata": {},
     "output_type": "execute_result"
    }
   ],
   "source": [
    "# Task 2 Найти наибольшее геодезическое расстояние между станциями.\n",
    "from math import sin, cos, sqrt, atan2, radians\n",
    "\n",
    "def geo_distance(lat1, lon1, lat2, lon2):\n",
    "    # Approximate radius of earth\n",
    "    R = 6373\n",
    "    \n",
    "    lat1 = radians(lat1)\n",
    "    lon1 = radians(lon1)\n",
    "    lat2 = radians(lat2)\n",
    "    lon2 = radians(lon2)\n",
    "    \n",
    "    dlon = lon2 - lon1\n",
    "    dlat = lat2 - lat1\n",
    "\n",
    "    a = sin(dlat / 2)**2 + cos(lat1) * cos(lat2) * sin(dlon / 2)**2\n",
    "    c = 2 * atan2(sqrt(a), sqrt(1 - a))\n",
    "\n",
    "    return R * c\n",
    "\n",
    "station_data.crossJoin(station_data)\\\n",
    ".rdd.map(lambda entry: geo_distance(entry[2], entry[3], entry[9], entry[10])).max()"
   ]
  },
  {
   "cell_type": "code",
   "execution_count": 19,
   "id": "ce5a0843-d51d-4b93-8d77-f9791cd446fd",
   "metadata": {},
   "outputs": [
    {
     "name": "stdout",
     "output_type": "stream",
     "text": [
      "+----------------+--------------+\n",
      "|start_station_id|end_station_id|\n",
      "+----------------+--------------+\n",
      "|              70|            69|\n",
      "|              47|            70|\n",
      "|              77|            64|\n",
      "|              69|            77|\n",
      "|              61|            42|\n",
      "|              58|            72|\n",
      "|              72|            47|\n",
      "|              47|            60|\n",
      "|              60|            46|\n",
      "|              46|            77|\n",
      "|              77|            77|\n",
      "|              77|            62|\n",
      "|              62|            61|\n",
      "|              55|            61|\n",
      "|              61|            60|\n",
      "|              60|            41|\n",
      "|              41|            50|\n",
      "|              50|            41|\n",
      "|              41|            70|\n",
      "|              70|            74|\n",
      "+----------------+--------------+\n",
      "only showing top 20 rows\n",
      "\n"
     ]
    }
   ],
   "source": [
    "# Task 3 путь велосипеда с максимальным временем пробега через станции\n",
    "# использован bike_id найденный в первом задании\n",
    "\n",
    "route = trips.where('bike_id=535').select('start_station_id', 'end_station_id')\n",
    "route.show()"
   ]
  },
  {
   "cell_type": "code",
   "execution_count": 21,
   "id": "488c2345-d1aa-4706-b8d3-d191d277b2f2",
   "metadata": {},
   "outputs": [
    {
     "name": "stdout",
     "output_type": "stream",
     "text": [
      "+---+--------------------+------------------+-------------------+---------+------------+-------------------+\n",
      "|id2|               name2|              lat2|              long2|dock_cnt2|       city2|         inst_date2|\n",
      "+---+--------------------+------------------+-------------------+---------+------------+-------------------+\n",
      "|  2|San Jose Diridon ...|         37.329732|-121.90178200000001|       27|    San Jose|2013-08-06 00:00:00|\n",
      "|  3|San Jose Civic Ce...|         37.330698|        -121.888979|       15|    San Jose|2013-08-05 00:00:00|\n",
      "|  4|Santa Clara at Al...|         37.333988|        -121.894902|       11|    San Jose|2013-08-06 00:00:00|\n",
      "|  5|    Adobe on Almaden|         37.331415|          -121.8932|       19|    San Jose|2013-08-05 00:00:00|\n",
      "|  6|    San Pedro Square|37.336721000000004|        -121.894074|       15|    San Jose|2013-08-07 00:00:00|\n",
      "|  7|Paseo de San Antonio|         37.333798|-121.88694299999999|       15|    San Jose|2013-08-07 00:00:00|\n",
      "|  8| San Salvador at 1st|         37.330165|-121.88583100000001|       15|    San Jose|2013-08-05 00:00:00|\n",
      "|  9|           Japantown|         37.348742|-121.89471499999999|       15|    San Jose|2013-08-05 00:00:00|\n",
      "| 10|  San Jose City Hall|         37.337391|        -121.886995|       15|    San Jose|2013-08-06 00:00:00|\n",
      "| 11|         MLK Library|         37.335885|-121.88566000000002|       19|    San Jose|2013-08-06 00:00:00|\n",
      "| 12|SJSU 4th at San C...|         37.332808|-121.88389099999999|       19|    San Jose|2013-08-07 00:00:00|\n",
      "| 13|       St James Park|         37.339301|-121.88993700000002|       15|    San Jose|2013-08-06 00:00:00|\n",
      "| 14|Arena Green / SAP...|         37.332692|        -121.900084|       19|    San Jose|2013-08-05 00:00:00|\n",
      "| 16|SJSU - San Salvad...|37.333954999999996|        -121.877349|       15|    San Jose|2013-08-07 00:00:00|\n",
      "| 21|   Franklin at Maple|         37.481758|        -122.226904|       15|Redwood City|2013-08-12 00:00:00|\n",
      "| 22|Redwood City Calt...|37.486078000000006|-122.23208899999999|       25|Redwood City|2013-08-15 00:00:00|\n",
      "| 23|San Mateo County ...|37.487615999999996|        -122.229951|       15|Redwood City|2013-08-15 00:00:00|\n",
      "| 24|Redwood City Publ...|         37.484219|        -122.227424|       15|Redwood City|2013-08-12 00:00:00|\n",
      "| 25|Stanford in Redwo...|          37.48537|-122.20328799999999|       15|Redwood City|2013-08-12 00:00:00|\n",
      "| 26|Redwood City Medi...|         37.487682|        -122.223492|       15|Redwood City|2013-08-12 00:00:00|\n",
      "+---+--------------------+------------------+-------------------+---------+------------+-------------------+\n",
      "only showing top 20 rows\n",
      "\n"
     ]
    }
   ],
   "source": [
    "station_data_2 = station_data.toDF(\"id2\", \"name2\", \"lat2\", \"long2\", \"dock_cnt2\", \"city2\", \"inst_date2\")\n",
    "station_data_2.show()"
   ]
  },
  {
   "cell_type": "code",
   "execution_count": 23,
   "id": "c2b54d98-ace5-4db3-8215-6cdeeca48ea6",
   "metadata": {},
   "outputs": [
    {
     "name": "stdout",
     "output_type": "stream",
     "text": [
      "+----------------+--------------+---+--------------------+---------+-------------------+----------+-------------+-------------------+---+--------------------+---------+-------------------+---------+-------------+-------------------+\n",
      "|start_station_id|end_station_id| id|                name|      lat|               long|dock_count|         city|  installation_date|id2|               name2|     lat2|              long2|dock_cnt2|        city2|         inst_date2|\n",
      "+----------------+--------------+---+--------------------+---------+-------------------+----------+-------------+-------------------+---+--------------------+---------+-------------------+---------+-------------+-------------------+\n",
      "|              70|            69| 70|San Francisco Cal...|37.776617|-122.39526000000001|        19|San Francisco|2013-08-23 00:00:00| 69|San Francisco Cal...|  37.7766|-122.39546999999999|       23|San Francisco|2013-08-23 00:00:00|\n",
      "|              47|            70| 47|     Post at Kearney|37.788975|        -122.403452|        19|San Francisco|2013-08-19 00:00:00| 70|San Francisco Cal...|37.776617|-122.39526000000001|       19|San Francisco|2013-08-23 00:00:00|\n",
      "|              77|            64| 77|   Market at Sansome|37.789625|        -122.400811|        27|San Francisco|2013-08-25 00:00:00| 64|   2nd at South Park|37.782259|        -122.392738|       15|San Francisco|2013-08-22 00:00:00|\n",
      "|              69|            77| 69|San Francisco Cal...|  37.7766|-122.39546999999999|        23|San Francisco|2013-08-23 00:00:00| 77|   Market at Sansome|37.789625|        -122.400811|       27|San Francisco|2013-08-25 00:00:00|\n",
      "|              61|            42| 61|     2nd at Townsend|37.780526|-122.39028799999998|        27|San Francisco|2013-08-22 00:00:00| 42|    Davis at Jackson| 37.79728|        -122.398436|       15|San Francisco|2013-08-19 00:00:00|\n",
      "|              58|            72| 58|San Francisco Cit...| 37.77865|-122.41823500000001|        19|San Francisco|2013-08-21 00:00:00| 72|Civic Center BART...|37.781039|        -122.411748|       23|San Francisco|2013-08-23 00:00:00|\n",
      "|              72|            47| 72|Civic Center BART...|37.781039|        -122.411748|        23|San Francisco|2013-08-23 00:00:00| 47|     Post at Kearney|37.788975|        -122.403452|       19|San Francisco|2013-08-19 00:00:00|\n",
      "|              47|            60| 47|     Post at Kearney|37.788975|        -122.403452|        19|San Francisco|2013-08-19 00:00:00| 60|Embarcadero at Sa...| 37.80477|-122.40323400000001|       15|San Francisco|2013-08-21 00:00:00|\n",
      "|              60|            46| 60|Embarcadero at Sa...| 37.80477|-122.40323400000001|        15|San Francisco|2013-08-21 00:00:00| 46|Washington at Kea...|37.795425|-122.40476699999999|       15|San Francisco|2013-08-19 00:00:00|\n",
      "|              46|            77| 46|Washington at Kea...|37.795425|-122.40476699999999|        15|San Francisco|2013-08-19 00:00:00| 77|   Market at Sansome|37.789625|        -122.400811|       27|San Francisco|2013-08-25 00:00:00|\n",
      "|              77|            77| 77|   Market at Sansome|37.789625|        -122.400811|        27|San Francisco|2013-08-25 00:00:00| 77|   Market at Sansome|37.789625|        -122.400811|       27|San Francisco|2013-08-25 00:00:00|\n",
      "|              77|            62| 77|   Market at Sansome|37.789625|        -122.400811|        27|San Francisco|2013-08-25 00:00:00| 62|       2nd at Folsom|37.785299|-122.39623600000002|       19|San Francisco|2013-08-22 00:00:00|\n",
      "|              62|            61| 62|       2nd at Folsom|37.785299|-122.39623600000002|        19|San Francisco|2013-08-22 00:00:00| 61|     2nd at Townsend|37.780526|-122.39028799999998|       27|San Francisco|2013-08-22 00:00:00|\n",
      "|              55|            61| 55|Temporary Transba...|37.789756|-122.39464299999999|        23|San Francisco|2013-08-20 00:00:00| 61|     2nd at Townsend|37.780526|-122.39028799999998|       27|San Francisco|2013-08-22 00:00:00|\n",
      "|              61|            60| 61|     2nd at Townsend|37.780526|-122.39028799999998|        27|San Francisco|2013-08-22 00:00:00| 60|Embarcadero at Sa...| 37.80477|-122.40323400000001|       15|San Francisco|2013-08-21 00:00:00|\n",
      "|              60|            41| 60|Embarcadero at Sa...| 37.80477|-122.40323400000001|        15|San Francisco|2013-08-21 00:00:00| 41|     Clay at Battery|37.795001|         -122.39997|       15|San Francisco|2013-08-19 00:00:00|\n",
      "|              41|            50| 41|     Clay at Battery|37.795001|         -122.39997|        15|San Francisco|2013-08-19 00:00:00| 50|Harry Bridges Pla...|37.795392|        -122.394203|       23|San Francisco|2013-08-20 00:00:00|\n",
      "|              50|            41| 50|Harry Bridges Pla...|37.795392|        -122.394203|        23|San Francisco|2013-08-20 00:00:00| 41|     Clay at Battery|37.795001|         -122.39997|       15|San Francisco|2013-08-19 00:00:00|\n",
      "|              41|            70| 41|     Clay at Battery|37.795001|         -122.39997|        15|San Francisco|2013-08-19 00:00:00| 70|San Francisco Cal...|37.776617|-122.39526000000001|       19|San Francisco|2013-08-23 00:00:00|\n",
      "|              70|            74| 70|San Francisco Cal...|37.776617|-122.39526000000001|        19|San Francisco|2013-08-23 00:00:00| 74|   Steuart at Market|37.794139|        -122.394434|       23|San Francisco|2013-08-25 00:00:00|\n",
      "+----------------+--------------+---+--------------------+---------+-------------------+----------+-------------+-------------------+---+--------------------+---------+-------------------+---------+-------------+-------------------+\n",
      "only showing top 20 rows\n",
      "\n"
     ]
    },
    {
     "data": {
      "text/plain": [
       "2214.7809104001412"
      ]
     },
     "execution_count": 23,
     "metadata": {},
     "output_type": "execute_result"
    }
   ],
   "source": [
    "route_with_station_data = route.crossJoin(station_data).crossJoin(station_data_2).where('start_station_id=id and end_station_id=id2')\n",
    "route_with_station_data.show()\n",
    "route_with_station_data.rdd.map(lambda entry: geo_distance(entry[4], entry[5], entry[11], entry[12])).sum()"
   ]
  },
  {
   "cell_type": "code",
   "execution_count": 24,
   "id": "3eefe6e1-cd39-4688-9101-084ecc24c167",
   "metadata": {},
   "outputs": [
    {
     "data": {
      "text/plain": [
       "700"
      ]
     },
     "execution_count": 24,
     "metadata": {},
     "output_type": "execute_result"
    }
   ],
   "source": [
    "# task4 количество велосипедов\n",
    "\n",
    "trips.select('bike_id').distinct().count()"
   ]
  },
  {
   "cell_type": "code",
   "execution_count": 18,
   "id": "3669c6c2-de2b-4917-ba8a-c68ea852c638",
   "metadata": {},
   "outputs": [
    {
     "name": "stdout",
     "output_type": "stream",
     "text": [
      "+--------+--------+\n",
      "|zip_code|user_run|\n",
      "+--------+--------+\n",
      "|   94107|75957358|\n",
      "|     nil|70865483|\n",
      "|   94105|35662786|\n",
      "|   95531|34540800|\n",
      "|   94133|31520319|\n",
      "|    null|28944159|\n",
      "|   94103|28175558|\n",
      "|   94102|27269935|\n",
      "|   94111|20320436|\n",
      "|   95112|18257823|\n",
      "|   94109|16330251|\n",
      "|   94110|10902662|\n",
      "|   94040|10328795|\n",
      "|   94117| 9237419|\n",
      "|   94301| 9156218|\n",
      "|   94041| 8650800|\n",
      "|   94306| 8579026|\n",
      "|   94158| 8526623|\n",
      "|   94010| 7667734|\n",
      "|   94025| 7377243|\n",
      "+--------+--------+\n",
      "only showing top 20 rows\n",
      "\n"
     ]
    }
   ],
   "source": [
    "# task5 Найти пользователей потративших на поездки более 3 часов.\n",
    "# в качестве идентификатора пользователя использован атрибут zip_code, полученное значение очевидно некорректно, но какой-либо другой персональной информации в схеме нет\n",
    "\n",
    "trips.groupBy('zip_code')\\\n",
    ".agg(sum('duration').alias('total_duration'))\\\n",
    ".where(f'user_run > {3*60*60}')\\\n",
    ".sort(desc('total_duration')).show()"
   ]
  },
  {
   "cell_type": "code",
   "execution_count": 31,
   "id": "fea09a9e-f89b-4946-bbf1-a71aefdd5adf",
   "metadata": {},
   "outputs": [],
   "source": [
    "session.stop()"
   ]
  },
  {
   "cell_type": "code",
   "execution_count": null,
   "id": "24ae2040-11e3-42df-9ea8-4981a3911847",
   "metadata": {},
   "outputs": [],
   "source": []
  }
 ],
 "metadata": {
  "kernelspec": {
   "display_name": "Python 3",
   "language": "python",
   "name": "python3"
  },
  "language_info": {
   "codemirror_mode": {
    "name": "ipython",
    "version": 3
   },
   "file_extension": ".py",
   "mimetype": "text/x-python",
   "name": "python",
   "nbconvert_exporter": "python",
   "pygments_lexer": "ipython3",
   "version": "3.9.5"
  }
 },
 "nbformat": 4,
 "nbformat_minor": 5
}
